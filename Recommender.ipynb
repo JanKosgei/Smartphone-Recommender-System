{
 "cells": [
  {
   "cell_type": "markdown",
   "metadata": {},
   "source": [
    "Importing Libraries"
   ]
  },
  {
   "cell_type": "code",
   "execution_count": 331,
   "metadata": {},
   "outputs": [],
   "source": [
    "import pandas as pd\n",
    "import numpy as np\n",
    "import matplotlib.pyplot as plt\n",
    "import seaborn as sns\n",
    "\n",
    "#Recommendor\n",
    "from sklearn.preprocessing import StandardScaler\n",
    "from sklearn.metrics.pairwise import cosine_similarity\n",
    "import ipywidgets as widgets\n",
    "from IPython.display import display, Image\n",
    "\n",
    "\n",
    "#Clustering(Segmentation)\n",
    "from sklearn.cluster import KMeans\n",
    "#PCA\n",
    "from sklearn.decomposition import PCA\n",
    "\n",
    "\n",
    "#Price prediction\n",
    "from sklearn.model_selection import train_test_split\n",
    "from sklearn.linear_model import LinearRegression\n",
    "from sklearn.tree import DecisionTreeRegressor\n",
    "from sklearn.ensemble import RandomForestRegressor, GradientBoostingRegressor\n",
    "from sklearn.svm import SVR\n",
    "from sklearn.metrics import mean_absolute_error\n",
    "from sklearn.preprocessing import OneHotEncoder\n"
   ]
  },
  {
   "cell_type": "markdown",
   "metadata": {},
   "source": [
    "Loading the data"
   ]
  },
  {
   "cell_type": "code",
   "execution_count": 384,
   "metadata": {},
   "outputs": [
    {
     "data": {
      "text/html": [
       "<div>\n",
       "<style scoped>\n",
       "    .dataframe tbody tr th:only-of-type {\n",
       "        vertical-align: middle;\n",
       "    }\n",
       "\n",
       "    .dataframe tbody tr th {\n",
       "        vertical-align: top;\n",
       "    }\n",
       "\n",
       "    .dataframe thead th {\n",
       "        text-align: right;\n",
       "    }\n",
       "</style>\n",
       "<table border=\"1\" class=\"dataframe\">\n",
       "  <thead>\n",
       "    <tr style=\"text-align: right;\">\n",
       "      <th></th>\n",
       "      <th>name</th>\n",
       "      <th>ratings</th>\n",
       "      <th>price</th>\n",
       "      <th>imgURL</th>\n",
       "      <th>camera</th>\n",
       "      <th>display</th>\n",
       "      <th>battery</th>\n",
       "      <th>storage</th>\n",
       "      <th>ram</th>\n",
       "      <th>processor</th>\n",
       "      <th>android_version</th>\n",
       "    </tr>\n",
       "  </thead>\n",
       "  <tbody>\n",
       "    <tr>\n",
       "      <th>0</th>\n",
       "      <td>SAMSUNG Galaxy F13 (Sunrise Copper, 64 GB)</td>\n",
       "      <td>4.3</td>\n",
       "      <td>9499</td>\n",
       "      <td>https://rukminim2.flixcart.com/image/312/312/x...</td>\n",
       "      <td>50</td>\n",
       "      <td>other_types</td>\n",
       "      <td>6000</td>\n",
       "      <td>64</td>\n",
       "      <td>4</td>\n",
       "      <td>not mentioned</td>\n",
       "      <td>12</td>\n",
       "    </tr>\n",
       "    <tr>\n",
       "      <th>1</th>\n",
       "      <td>SAMSUNG Galaxy F13 (Waterfall Blue, 128 GB)</td>\n",
       "      <td>4.3</td>\n",
       "      <td>10499</td>\n",
       "      <td>https://rukminim2.flixcart.com/image/312/312/x...</td>\n",
       "      <td>50</td>\n",
       "      <td>other_types</td>\n",
       "      <td>6000</td>\n",
       "      <td>128</td>\n",
       "      <td>4</td>\n",
       "      <td>not mentioned</td>\n",
       "      <td>12</td>\n",
       "    </tr>\n",
       "    <tr>\n",
       "      <th>2</th>\n",
       "      <td>SAMSUNG Galaxy F13 (Nightsky Green, 128 GB)</td>\n",
       "      <td>4.3</td>\n",
       "      <td>10499</td>\n",
       "      <td>https://rukminim2.flixcart.com/image/312/312/x...</td>\n",
       "      <td>50</td>\n",
       "      <td>other_types</td>\n",
       "      <td>6000</td>\n",
       "      <td>128</td>\n",
       "      <td>4</td>\n",
       "      <td>not mentioned</td>\n",
       "      <td>12</td>\n",
       "    </tr>\n",
       "    <tr>\n",
       "      <th>3</th>\n",
       "      <td>SAMSUNG Galaxy F13 (Sunrise Copper, 128 GB)</td>\n",
       "      <td>4.3</td>\n",
       "      <td>10499</td>\n",
       "      <td>https://rukminim2.flixcart.com/image/312/312/x...</td>\n",
       "      <td>50</td>\n",
       "      <td>other_types</td>\n",
       "      <td>6000</td>\n",
       "      <td>128</td>\n",
       "      <td>4</td>\n",
       "      <td>not mentioned</td>\n",
       "      <td>12</td>\n",
       "    </tr>\n",
       "    <tr>\n",
       "      <th>4</th>\n",
       "      <td>SAMSUNG Galaxy F23 5G (Aqua Blue, 128 GB)</td>\n",
       "      <td>4.3</td>\n",
       "      <td>15499</td>\n",
       "      <td>https://rukminim2.flixcart.com/image/312/312/x...</td>\n",
       "      <td>50</td>\n",
       "      <td>other_types</td>\n",
       "      <td>5000</td>\n",
       "      <td>128</td>\n",
       "      <td>6</td>\n",
       "      <td>Snapdragon750GProcessor</td>\n",
       "      <td>12</td>\n",
       "    </tr>\n",
       "  </tbody>\n",
       "</table>\n",
       "</div>"
      ],
      "text/plain": [
       "                                          name  ratings  price  \\\n",
       "0   SAMSUNG Galaxy F13 (Sunrise Copper, 64 GB)      4.3   9499   \n",
       "1  SAMSUNG Galaxy F13 (Waterfall Blue, 128 GB)      4.3  10499   \n",
       "2  SAMSUNG Galaxy F13 (Nightsky Green, 128 GB)      4.3  10499   \n",
       "3  SAMSUNG Galaxy F13 (Sunrise Copper, 128 GB)      4.3  10499   \n",
       "4    SAMSUNG Galaxy F23 5G (Aqua Blue, 128 GB)      4.3  15499   \n",
       "\n",
       "                                              imgURL  camera      display  \\\n",
       "0  https://rukminim2.flixcart.com/image/312/312/x...      50  other_types   \n",
       "1  https://rukminim2.flixcart.com/image/312/312/x...      50  other_types   \n",
       "2  https://rukminim2.flixcart.com/image/312/312/x...      50  other_types   \n",
       "3  https://rukminim2.flixcart.com/image/312/312/x...      50  other_types   \n",
       "4  https://rukminim2.flixcart.com/image/312/312/x...      50  other_types   \n",
       "\n",
       "   battery  storage  ram                processor  android_version  \n",
       "0     6000       64    4            not mentioned               12  \n",
       "1     6000      128    4            not mentioned               12  \n",
       "2     6000      128    4            not mentioned               12  \n",
       "3     6000      128    4            not mentioned               12  \n",
       "4     5000      128    6  Snapdragon750GProcessor               12  "
      ]
     },
     "execution_count": 384,
     "metadata": {},
     "output_type": "execute_result"
    }
   ],
   "source": [
    "data = pd.read_csv('samsungMobilesData.csv')\n",
    "\n",
    "#Creating a parquet file for it\n",
    "data. to_parquet('samsungMobilesData.parquet')\n",
    "\n",
    "data.head()"
   ]
  },
  {
   "cell_type": "markdown",
   "metadata": {},
   "source": [
    "Loading the new data"
   ]
  },
  {
   "cell_type": "code",
   "execution_count": 385,
   "metadata": {},
   "outputs": [
    {
     "data": {
      "text/html": [
       "<div>\n",
       "<style scoped>\n",
       "    .dataframe tbody tr th:only-of-type {\n",
       "        vertical-align: middle;\n",
       "    }\n",
       "\n",
       "    .dataframe tbody tr th {\n",
       "        vertical-align: top;\n",
       "    }\n",
       "\n",
       "    .dataframe thead th {\n",
       "        text-align: right;\n",
       "    }\n",
       "</style>\n",
       "<table border=\"1\" class=\"dataframe\">\n",
       "  <thead>\n",
       "    <tr style=\"text-align: right;\">\n",
       "      <th></th>\n",
       "      <th>name</th>\n",
       "      <th>ratings</th>\n",
       "      <th>price</th>\n",
       "      <th>imgURL</th>\n",
       "      <th>storage_ram</th>\n",
       "      <th>os_processor</th>\n",
       "      <th>camera</th>\n",
       "      <th>display</th>\n",
       "      <th>network</th>\n",
       "      <th>battery</th>\n",
       "    </tr>\n",
       "  </thead>\n",
       "  <tbody>\n",
       "    <tr>\n",
       "      <th>0</th>\n",
       "      <td>SAMSUNG Galaxy F13 (Sunrise Copper, 64 GB)</td>\n",
       "      <td>4.3</td>\n",
       "      <td>₹9,499</td>\n",
       "      <td>https://rukminim2.flixcart.com/image/312/312/x...</td>\n",
       "      <td>Internal Storage64 GBRAM4 GBExpandable Storage...</td>\n",
       "      <td>Operating SystemAndroid 12Processor TypeExynos...</td>\n",
       "      <td>Primary Camera AvailableYesPrimary Camera50MP ...</td>\n",
       "      <td>Display Size16.76 cm (6.6 inch)Resolution2408 ...</td>\n",
       "      <td>Network Type4G, 3G, 2GSupported Networks4G LTE...</td>\n",
       "      <td>Battery Capacity6000 mAhDual BatteryNo</td>\n",
       "    </tr>\n",
       "    <tr>\n",
       "      <th>1</th>\n",
       "      <td>SAMSUNG Galaxy F13 (Waterfall Blue, 128 GB)</td>\n",
       "      <td>4.3</td>\n",
       "      <td>₹10,499</td>\n",
       "      <td>https://rukminim2.flixcart.com/image/312/312/x...</td>\n",
       "      <td>Internal Storage128 GBRAM4 GBExpandable Storag...</td>\n",
       "      <td>Operating SystemAndroid 12Processor TypeExynos...</td>\n",
       "      <td>Primary Camera AvailableYesPrimary Camera50MP ...</td>\n",
       "      <td>Display Size16.76 cm (6.6 inch)Resolution2408 ...</td>\n",
       "      <td>Network Type4G, 3G, 2GSupported Networks4G LTE...</td>\n",
       "      <td>Battery Capacity6000 mAhDual BatteryNo</td>\n",
       "    </tr>\n",
       "    <tr>\n",
       "      <th>2</th>\n",
       "      <td>SAMSUNG Galaxy F13 (Nightsky Green, 128 GB)</td>\n",
       "      <td>4.3</td>\n",
       "      <td>₹10,499</td>\n",
       "      <td>https://rukminim2.flixcart.com/image/312/312/x...</td>\n",
       "      <td>Internal Storage128 GBRAM4 GBExpandable Storag...</td>\n",
       "      <td>Operating SystemAndroid 12Processor TypeExynos...</td>\n",
       "      <td>Primary Camera AvailableYesPrimary Camera50MP ...</td>\n",
       "      <td>Display Size16.76 cm (6.6 inch)Resolution2408 ...</td>\n",
       "      <td>Network Type4G, 3G, 2GSupported Networks4G LTE...</td>\n",
       "      <td>Battery Capacity6000 mAhDual BatteryNo</td>\n",
       "    </tr>\n",
       "    <tr>\n",
       "      <th>3</th>\n",
       "      <td>SAMSUNG Galaxy F13 (Sunrise Copper, 128 GB)</td>\n",
       "      <td>4.3</td>\n",
       "      <td>₹10,499</td>\n",
       "      <td>https://rukminim2.flixcart.com/image/312/312/x...</td>\n",
       "      <td>Internal Storage128 GBRAM4 GBExpandable Storag...</td>\n",
       "      <td>Operating SystemAndroid 12Processor TypeExynos...</td>\n",
       "      <td>Primary Camera AvailableYesPrimary Camera50MP ...</td>\n",
       "      <td>Display Size16.76 cm (6.6 inch)Resolution2408 ...</td>\n",
       "      <td>Network Type4G, 3G, 2GSupported Networks4G LTE...</td>\n",
       "      <td>Battery Capacity6000 mAhDual BatteryNo</td>\n",
       "    </tr>\n",
       "    <tr>\n",
       "      <th>4</th>\n",
       "      <td>SAMSUNG Galaxy F23 5G (Aqua Blue, 128 GB)</td>\n",
       "      <td>4.3</td>\n",
       "      <td>₹15,499</td>\n",
       "      <td>https://rukminim2.flixcart.com/image/312/312/x...</td>\n",
       "      <td>Internal Storage128 GBRAM6 GBTotal Memory128 G...</td>\n",
       "      <td>Operating SystemAndroid 12Processor TypeQualco...</td>\n",
       "      <td>Primary Camera AvailableYesPrimary Camera50MP ...</td>\n",
       "      <td>Display Size16.76 cm (6.6 inch)Resolution2408 ...</td>\n",
       "      <td>Network Type5G, 4G, 3G, 2GSupported Networks5G...</td>\n",
       "      <td>Battery Capacity5000 mAh</td>\n",
       "    </tr>\n",
       "  </tbody>\n",
       "</table>\n",
       "</div>"
      ],
      "text/plain": [
       "                                          name  ratings    price  \\\n",
       "0   SAMSUNG Galaxy F13 (Sunrise Copper, 64 GB)      4.3   ₹9,499   \n",
       "1  SAMSUNG Galaxy F13 (Waterfall Blue, 128 GB)      4.3  ₹10,499   \n",
       "2  SAMSUNG Galaxy F13 (Nightsky Green, 128 GB)      4.3  ₹10,499   \n",
       "3  SAMSUNG Galaxy F13 (Sunrise Copper, 128 GB)      4.3  ₹10,499   \n",
       "4    SAMSUNG Galaxy F23 5G (Aqua Blue, 128 GB)      4.3  ₹15,499   \n",
       "\n",
       "                                              imgURL  \\\n",
       "0  https://rukminim2.flixcart.com/image/312/312/x...   \n",
       "1  https://rukminim2.flixcart.com/image/312/312/x...   \n",
       "2  https://rukminim2.flixcart.com/image/312/312/x...   \n",
       "3  https://rukminim2.flixcart.com/image/312/312/x...   \n",
       "4  https://rukminim2.flixcart.com/image/312/312/x...   \n",
       "\n",
       "                                         storage_ram  \\\n",
       "0  Internal Storage64 GBRAM4 GBExpandable Storage...   \n",
       "1  Internal Storage128 GBRAM4 GBExpandable Storag...   \n",
       "2  Internal Storage128 GBRAM4 GBExpandable Storag...   \n",
       "3  Internal Storage128 GBRAM4 GBExpandable Storag...   \n",
       "4  Internal Storage128 GBRAM6 GBTotal Memory128 G...   \n",
       "\n",
       "                                        os_processor  \\\n",
       "0  Operating SystemAndroid 12Processor TypeExynos...   \n",
       "1  Operating SystemAndroid 12Processor TypeExynos...   \n",
       "2  Operating SystemAndroid 12Processor TypeExynos...   \n",
       "3  Operating SystemAndroid 12Processor TypeExynos...   \n",
       "4  Operating SystemAndroid 12Processor TypeQualco...   \n",
       "\n",
       "                                              camera  \\\n",
       "0  Primary Camera AvailableYesPrimary Camera50MP ...   \n",
       "1  Primary Camera AvailableYesPrimary Camera50MP ...   \n",
       "2  Primary Camera AvailableYesPrimary Camera50MP ...   \n",
       "3  Primary Camera AvailableYesPrimary Camera50MP ...   \n",
       "4  Primary Camera AvailableYesPrimary Camera50MP ...   \n",
       "\n",
       "                                             display  \\\n",
       "0  Display Size16.76 cm (6.6 inch)Resolution2408 ...   \n",
       "1  Display Size16.76 cm (6.6 inch)Resolution2408 ...   \n",
       "2  Display Size16.76 cm (6.6 inch)Resolution2408 ...   \n",
       "3  Display Size16.76 cm (6.6 inch)Resolution2408 ...   \n",
       "4  Display Size16.76 cm (6.6 inch)Resolution2408 ...   \n",
       "\n",
       "                                             network  \\\n",
       "0  Network Type4G, 3G, 2GSupported Networks4G LTE...   \n",
       "1  Network Type4G, 3G, 2GSupported Networks4G LTE...   \n",
       "2  Network Type4G, 3G, 2GSupported Networks4G LTE...   \n",
       "3  Network Type4G, 3G, 2GSupported Networks4G LTE...   \n",
       "4  Network Type5G, 4G, 3G, 2GSupported Networks5G...   \n",
       "\n",
       "                                  battery  \n",
       "0  Battery Capacity6000 mAhDual BatteryNo  \n",
       "1  Battery Capacity6000 mAhDual BatteryNo  \n",
       "2  Battery Capacity6000 mAhDual BatteryNo  \n",
       "3  Battery Capacity6000 mAhDual BatteryNo  \n",
       "4                Battery Capacity5000 mAh  "
      ]
     },
     "execution_count": 385,
     "metadata": {},
     "output_type": "execute_result"
    }
   ],
   "source": [
    "new_data = pd.read_csv('samsung_mobile_new_data.csv')\n",
    "\n",
    "#Creating a parquet file for it\n",
    "new_data. to_parquet('samsung_mobile_new_data.parquet')\n",
    "\n",
    "new_data.head()"
   ]
  },
  {
   "cell_type": "markdown",
   "metadata": {},
   "source": [
    "# 1.Data Cleaning & Preprocessing"
   ]
  },
  {
   "cell_type": "markdown",
   "metadata": {},
   "source": [
    "### 1.1 Eliminating the currency symbol in the new dataset"
   ]
  },
  {
   "cell_type": "code",
   "execution_count": 334,
   "metadata": {},
   "outputs": [],
   "source": [
    "new_data['price'] = new_data['price'].str.replace('₹', '').str.replace(',', '').astype(int)\n"
   ]
  },
  {
   "cell_type": "markdown",
   "metadata": {},
   "source": [
    "### 1.2 Splitting Fields"
   ]
  },
  {
   "cell_type": "markdown",
   "metadata": {},
   "source": [
    "1.2.1: 'storage_ram' field into 'internal_storage', 'ram', and 'expandable_storage'"
   ]
  },
  {
   "cell_type": "code",
   "execution_count": 335,
   "metadata": {},
   "outputs": [],
   "source": [
    "new_data['internal_storage'] = new_data['storage_ram'].str.extract('Internal Storage(\\d+) GB', expand=False).astype(float)\n",
    "new_data['ram'] = new_data['storage_ram'].str.extract('RAM(\\d+) GB', expand=False).astype(float)\n",
    "new_data['expandable_storage'] = new_data['storage_ram'].str.extract('Expandable Storage(\\d+) GB', expand=False).astype(float)"
   ]
  },
  {
   "cell_type": "markdown",
   "metadata": {},
   "source": [
    "1.2.2: os_processor' field into 'os' and 'processor_type'"
   ]
  },
  {
   "cell_type": "code",
   "execution_count": 336,
   "metadata": {},
   "outputs": [],
   "source": [
    "new_data['os'] = new_data['os_processor'].str.extract('Operating System(.+?)Processor', expand=False).str.strip()\n",
    "new_data['processor_type'] = new_data['os_processor'].str.extract('Processor Type(.+)', expand=False).str.strip()"
   ]
  },
  {
   "cell_type": "markdown",
   "metadata": {},
   "source": [
    "1.2.3: 'camera' field into 'primary_camera', 'secondary_camera', and 'flash_type'"
   ]
  },
  {
   "cell_type": "code",
   "execution_count": 337,
   "metadata": {},
   "outputs": [],
   "source": [
    "new_data['primary_camera'] = new_data['camera'].str.extract('Primary Camera(\\d+)MP', expand=False).astype(float)\n",
    "new_data['secondary_camera'] = new_data['camera'].str.extract('Secondary Camera(\\d+)MP', expand=False).astype(float)\n",
    "new_data['flash_type'] = new_data['camera'].str.extract('Flash(.+?)', expand=False).str.strip()"
   ]
  },
  {
   "cell_type": "markdown",
   "metadata": {},
   "source": [
    "1.2.4: 'display' field into 'display_size', 'resolution', 'display_type', and 'other_display_features'"
   ]
  },
  {
   "cell_type": "code",
   "execution_count": 338,
   "metadata": {},
   "outputs": [],
   "source": [
    "new_data['display_size'] = new_data['display'].str.extract('Display Size(.+?) cm', expand=False).str.replace('(', '').astype(float)\n",
    "new_data['resolution'] = new_data['display'].str.extract('Resolution(.+?)Pixels', expand=False).str.strip()\n",
    "new_data['display_type'] = new_data['display'].str.extract('Display Type(.+?)', expand=False).str.strip()"
   ]
  },
  {
   "cell_type": "markdown",
   "metadata": {},
   "source": [
    "1.2.5: 'network' field into 'network_type' and 'supported_networks'"
   ]
  },
  {
   "cell_type": "code",
   "execution_count": 339,
   "metadata": {},
   "outputs": [],
   "source": [
    "new_data['network_type'] = new_data['network'].str.extract('Network Type(.+?)Supported', expand=False).str.strip()\n",
    "new_data['supported_networks'] = new_data['network'].str.extract('Supported Networks(.+)', expand=False).str.strip()"
   ]
  },
  {
   "cell_type": "markdown",
   "metadata": {},
   "source": [
    "### 1.3 Fill missing values in 'battery_capacity' with -1 before converting to integer"
   ]
  },
  {
   "cell_type": "code",
   "execution_count": 386,
   "metadata": {},
   "outputs": [
    {
     "data": {
      "text/html": [
       "<div>\n",
       "<style scoped>\n",
       "    .dataframe tbody tr th:only-of-type {\n",
       "        vertical-align: middle;\n",
       "    }\n",
       "\n",
       "    .dataframe tbody tr th {\n",
       "        vertical-align: top;\n",
       "    }\n",
       "\n",
       "    .dataframe thead th {\n",
       "        text-align: right;\n",
       "    }\n",
       "</style>\n",
       "<table border=\"1\" class=\"dataframe\">\n",
       "  <thead>\n",
       "    <tr style=\"text-align: right;\">\n",
       "      <th></th>\n",
       "      <th>name</th>\n",
       "      <th>ratings</th>\n",
       "      <th>price</th>\n",
       "      <th>imgURL</th>\n",
       "      <th>storage_ram</th>\n",
       "      <th>os_processor</th>\n",
       "      <th>camera</th>\n",
       "      <th>display</th>\n",
       "      <th>network</th>\n",
       "      <th>battery</th>\n",
       "      <th>battery_capacity</th>\n",
       "    </tr>\n",
       "  </thead>\n",
       "  <tbody>\n",
       "    <tr>\n",
       "      <th>0</th>\n",
       "      <td>SAMSUNG Galaxy F13 (Sunrise Copper, 64 GB)</td>\n",
       "      <td>4.3</td>\n",
       "      <td>₹9,499</td>\n",
       "      <td>https://rukminim2.flixcart.com/image/312/312/x...</td>\n",
       "      <td>Internal Storage64 GBRAM4 GBExpandable Storage...</td>\n",
       "      <td>Operating SystemAndroid 12Processor TypeExynos...</td>\n",
       "      <td>Primary Camera AvailableYesPrimary Camera50MP ...</td>\n",
       "      <td>Display Size16.76 cm (6.6 inch)Resolution2408 ...</td>\n",
       "      <td>Network Type4G, 3G, 2GSupported Networks4G LTE...</td>\n",
       "      <td>Battery Capacity6000 mAhDual BatteryNo</td>\n",
       "      <td>6000</td>\n",
       "    </tr>\n",
       "    <tr>\n",
       "      <th>1</th>\n",
       "      <td>SAMSUNG Galaxy F13 (Waterfall Blue, 128 GB)</td>\n",
       "      <td>4.3</td>\n",
       "      <td>₹10,499</td>\n",
       "      <td>https://rukminim2.flixcart.com/image/312/312/x...</td>\n",
       "      <td>Internal Storage128 GBRAM4 GBExpandable Storag...</td>\n",
       "      <td>Operating SystemAndroid 12Processor TypeExynos...</td>\n",
       "      <td>Primary Camera AvailableYesPrimary Camera50MP ...</td>\n",
       "      <td>Display Size16.76 cm (6.6 inch)Resolution2408 ...</td>\n",
       "      <td>Network Type4G, 3G, 2GSupported Networks4G LTE...</td>\n",
       "      <td>Battery Capacity6000 mAhDual BatteryNo</td>\n",
       "      <td>6000</td>\n",
       "    </tr>\n",
       "    <tr>\n",
       "      <th>2</th>\n",
       "      <td>SAMSUNG Galaxy F13 (Nightsky Green, 128 GB)</td>\n",
       "      <td>4.3</td>\n",
       "      <td>₹10,499</td>\n",
       "      <td>https://rukminim2.flixcart.com/image/312/312/x...</td>\n",
       "      <td>Internal Storage128 GBRAM4 GBExpandable Storag...</td>\n",
       "      <td>Operating SystemAndroid 12Processor TypeExynos...</td>\n",
       "      <td>Primary Camera AvailableYesPrimary Camera50MP ...</td>\n",
       "      <td>Display Size16.76 cm (6.6 inch)Resolution2408 ...</td>\n",
       "      <td>Network Type4G, 3G, 2GSupported Networks4G LTE...</td>\n",
       "      <td>Battery Capacity6000 mAhDual BatteryNo</td>\n",
       "      <td>6000</td>\n",
       "    </tr>\n",
       "    <tr>\n",
       "      <th>3</th>\n",
       "      <td>SAMSUNG Galaxy F13 (Sunrise Copper, 128 GB)</td>\n",
       "      <td>4.3</td>\n",
       "      <td>₹10,499</td>\n",
       "      <td>https://rukminim2.flixcart.com/image/312/312/x...</td>\n",
       "      <td>Internal Storage128 GBRAM4 GBExpandable Storag...</td>\n",
       "      <td>Operating SystemAndroid 12Processor TypeExynos...</td>\n",
       "      <td>Primary Camera AvailableYesPrimary Camera50MP ...</td>\n",
       "      <td>Display Size16.76 cm (6.6 inch)Resolution2408 ...</td>\n",
       "      <td>Network Type4G, 3G, 2GSupported Networks4G LTE...</td>\n",
       "      <td>Battery Capacity6000 mAhDual BatteryNo</td>\n",
       "      <td>6000</td>\n",
       "    </tr>\n",
       "    <tr>\n",
       "      <th>4</th>\n",
       "      <td>SAMSUNG Galaxy F23 5G (Aqua Blue, 128 GB)</td>\n",
       "      <td>4.3</td>\n",
       "      <td>₹15,499</td>\n",
       "      <td>https://rukminim2.flixcart.com/image/312/312/x...</td>\n",
       "      <td>Internal Storage128 GBRAM6 GBTotal Memory128 G...</td>\n",
       "      <td>Operating SystemAndroid 12Processor TypeQualco...</td>\n",
       "      <td>Primary Camera AvailableYesPrimary Camera50MP ...</td>\n",
       "      <td>Display Size16.76 cm (6.6 inch)Resolution2408 ...</td>\n",
       "      <td>Network Type5G, 4G, 3G, 2GSupported Networks5G...</td>\n",
       "      <td>Battery Capacity5000 mAh</td>\n",
       "      <td>5000</td>\n",
       "    </tr>\n",
       "  </tbody>\n",
       "</table>\n",
       "</div>"
      ],
      "text/plain": [
       "                                          name  ratings    price  \\\n",
       "0   SAMSUNG Galaxy F13 (Sunrise Copper, 64 GB)      4.3   ₹9,499   \n",
       "1  SAMSUNG Galaxy F13 (Waterfall Blue, 128 GB)      4.3  ₹10,499   \n",
       "2  SAMSUNG Galaxy F13 (Nightsky Green, 128 GB)      4.3  ₹10,499   \n",
       "3  SAMSUNG Galaxy F13 (Sunrise Copper, 128 GB)      4.3  ₹10,499   \n",
       "4    SAMSUNG Galaxy F23 5G (Aqua Blue, 128 GB)      4.3  ₹15,499   \n",
       "\n",
       "                                              imgURL  \\\n",
       "0  https://rukminim2.flixcart.com/image/312/312/x...   \n",
       "1  https://rukminim2.flixcart.com/image/312/312/x...   \n",
       "2  https://rukminim2.flixcart.com/image/312/312/x...   \n",
       "3  https://rukminim2.flixcart.com/image/312/312/x...   \n",
       "4  https://rukminim2.flixcart.com/image/312/312/x...   \n",
       "\n",
       "                                         storage_ram  \\\n",
       "0  Internal Storage64 GBRAM4 GBExpandable Storage...   \n",
       "1  Internal Storage128 GBRAM4 GBExpandable Storag...   \n",
       "2  Internal Storage128 GBRAM4 GBExpandable Storag...   \n",
       "3  Internal Storage128 GBRAM4 GBExpandable Storag...   \n",
       "4  Internal Storage128 GBRAM6 GBTotal Memory128 G...   \n",
       "\n",
       "                                        os_processor  \\\n",
       "0  Operating SystemAndroid 12Processor TypeExynos...   \n",
       "1  Operating SystemAndroid 12Processor TypeExynos...   \n",
       "2  Operating SystemAndroid 12Processor TypeExynos...   \n",
       "3  Operating SystemAndroid 12Processor TypeExynos...   \n",
       "4  Operating SystemAndroid 12Processor TypeQualco...   \n",
       "\n",
       "                                              camera  \\\n",
       "0  Primary Camera AvailableYesPrimary Camera50MP ...   \n",
       "1  Primary Camera AvailableYesPrimary Camera50MP ...   \n",
       "2  Primary Camera AvailableYesPrimary Camera50MP ...   \n",
       "3  Primary Camera AvailableYesPrimary Camera50MP ...   \n",
       "4  Primary Camera AvailableYesPrimary Camera50MP ...   \n",
       "\n",
       "                                             display  \\\n",
       "0  Display Size16.76 cm (6.6 inch)Resolution2408 ...   \n",
       "1  Display Size16.76 cm (6.6 inch)Resolution2408 ...   \n",
       "2  Display Size16.76 cm (6.6 inch)Resolution2408 ...   \n",
       "3  Display Size16.76 cm (6.6 inch)Resolution2408 ...   \n",
       "4  Display Size16.76 cm (6.6 inch)Resolution2408 ...   \n",
       "\n",
       "                                             network  \\\n",
       "0  Network Type4G, 3G, 2GSupported Networks4G LTE...   \n",
       "1  Network Type4G, 3G, 2GSupported Networks4G LTE...   \n",
       "2  Network Type4G, 3G, 2GSupported Networks4G LTE...   \n",
       "3  Network Type4G, 3G, 2GSupported Networks4G LTE...   \n",
       "4  Network Type5G, 4G, 3G, 2GSupported Networks5G...   \n",
       "\n",
       "                                  battery  battery_capacity  \n",
       "0  Battery Capacity6000 mAhDual BatteryNo              6000  \n",
       "1  Battery Capacity6000 mAhDual BatteryNo              6000  \n",
       "2  Battery Capacity6000 mAhDual BatteryNo              6000  \n",
       "3  Battery Capacity6000 mAhDual BatteryNo              6000  \n",
       "4                Battery Capacity5000 mAh              5000  "
      ]
     },
     "execution_count": 386,
     "metadata": {},
     "output_type": "execute_result"
    }
   ],
   "source": [
    "new_data['battery_capacity'] = new_data['battery'].str.extract('Battery Capacity(\\d+) mAh', expand=False).fillna(-1).astype(int)\n",
    "\n",
    "new_data.head()"
   ]
  },
  {
   "cell_type": "markdown",
   "metadata": {},
   "source": [
    "### 1.4 Drop the original columns"
   ]
  },
  {
   "cell_type": "code",
   "execution_count": 387,
   "metadata": {},
   "outputs": [
    {
     "data": {
      "text/html": [
       "<div>\n",
       "<style scoped>\n",
       "    .dataframe tbody tr th:only-of-type {\n",
       "        vertical-align: middle;\n",
       "    }\n",
       "\n",
       "    .dataframe tbody tr th {\n",
       "        vertical-align: top;\n",
       "    }\n",
       "\n",
       "    .dataframe thead th {\n",
       "        text-align: right;\n",
       "    }\n",
       "</style>\n",
       "<table border=\"1\" class=\"dataframe\">\n",
       "  <thead>\n",
       "    <tr style=\"text-align: right;\">\n",
       "      <th></th>\n",
       "      <th>name</th>\n",
       "      <th>ratings</th>\n",
       "      <th>price</th>\n",
       "      <th>imgURL</th>\n",
       "      <th>battery_capacity</th>\n",
       "    </tr>\n",
       "  </thead>\n",
       "  <tbody>\n",
       "    <tr>\n",
       "      <th>0</th>\n",
       "      <td>SAMSUNG Galaxy F13 (Sunrise Copper, 64 GB)</td>\n",
       "      <td>4.3</td>\n",
       "      <td>₹9,499</td>\n",
       "      <td>https://rukminim2.flixcart.com/image/312/312/x...</td>\n",
       "      <td>6000</td>\n",
       "    </tr>\n",
       "    <tr>\n",
       "      <th>1</th>\n",
       "      <td>SAMSUNG Galaxy F13 (Waterfall Blue, 128 GB)</td>\n",
       "      <td>4.3</td>\n",
       "      <td>₹10,499</td>\n",
       "      <td>https://rukminim2.flixcart.com/image/312/312/x...</td>\n",
       "      <td>6000</td>\n",
       "    </tr>\n",
       "    <tr>\n",
       "      <th>2</th>\n",
       "      <td>SAMSUNG Galaxy F13 (Nightsky Green, 128 GB)</td>\n",
       "      <td>4.3</td>\n",
       "      <td>₹10,499</td>\n",
       "      <td>https://rukminim2.flixcart.com/image/312/312/x...</td>\n",
       "      <td>6000</td>\n",
       "    </tr>\n",
       "    <tr>\n",
       "      <th>3</th>\n",
       "      <td>SAMSUNG Galaxy F13 (Sunrise Copper, 128 GB)</td>\n",
       "      <td>4.3</td>\n",
       "      <td>₹10,499</td>\n",
       "      <td>https://rukminim2.flixcart.com/image/312/312/x...</td>\n",
       "      <td>6000</td>\n",
       "    </tr>\n",
       "    <tr>\n",
       "      <th>4</th>\n",
       "      <td>SAMSUNG Galaxy F23 5G (Aqua Blue, 128 GB)</td>\n",
       "      <td>4.3</td>\n",
       "      <td>₹15,499</td>\n",
       "      <td>https://rukminim2.flixcart.com/image/312/312/x...</td>\n",
       "      <td>5000</td>\n",
       "    </tr>\n",
       "  </tbody>\n",
       "</table>\n",
       "</div>"
      ],
      "text/plain": [
       "                                          name  ratings    price  \\\n",
       "0   SAMSUNG Galaxy F13 (Sunrise Copper, 64 GB)      4.3   ₹9,499   \n",
       "1  SAMSUNG Galaxy F13 (Waterfall Blue, 128 GB)      4.3  ₹10,499   \n",
       "2  SAMSUNG Galaxy F13 (Nightsky Green, 128 GB)      4.3  ₹10,499   \n",
       "3  SAMSUNG Galaxy F13 (Sunrise Copper, 128 GB)      4.3  ₹10,499   \n",
       "4    SAMSUNG Galaxy F23 5G (Aqua Blue, 128 GB)      4.3  ₹15,499   \n",
       "\n",
       "                                              imgURL  battery_capacity  \n",
       "0  https://rukminim2.flixcart.com/image/312/312/x...              6000  \n",
       "1  https://rukminim2.flixcart.com/image/312/312/x...              6000  \n",
       "2  https://rukminim2.flixcart.com/image/312/312/x...              6000  \n",
       "3  https://rukminim2.flixcart.com/image/312/312/x...              6000  \n",
       "4  https://rukminim2.flixcart.com/image/312/312/x...              5000  "
      ]
     },
     "execution_count": 387,
     "metadata": {},
     "output_type": "execute_result"
    }
   ],
   "source": [
    "new_data.drop(['storage_ram', 'os_processor', 'camera', 'display', 'network', 'battery'], axis=1, inplace=True)\n",
    "\n",
    "new_data.head()"
   ]
  },
  {
   "cell_type": "markdown",
   "metadata": {},
   "source": [
    "# 2. EDA"
   ]
  },
  {
   "cell_type": "markdown",
   "metadata": {},
   "source": [
    "2.1 Concatenate the original dataset and the new dataset"
   ]
  },
  {
   "cell_type": "code",
   "execution_count": 342,
   "metadata": {},
   "outputs": [],
   "source": [
    "combined_data = pd.concat([data, new_data], ignore_index=True)\n"
   ]
  },
  {
   "cell_type": "markdown",
   "metadata": {},
   "source": [
    "2.2 Average rating and price for each smartphone model"
   ]
  },
  {
   "cell_type": "code",
   "execution_count": 343,
   "metadata": {},
   "outputs": [
    {
     "data": {
      "text/html": [
       "<div>\n",
       "<style scoped>\n",
       "    .dataframe tbody tr th:only-of-type {\n",
       "        vertical-align: middle;\n",
       "    }\n",
       "\n",
       "    .dataframe tbody tr th {\n",
       "        vertical-align: top;\n",
       "    }\n",
       "\n",
       "    .dataframe thead th {\n",
       "        text-align: right;\n",
       "    }\n",
       "</style>\n",
       "<table border=\"1\" class=\"dataframe\">\n",
       "  <thead>\n",
       "    <tr style=\"text-align: right;\">\n",
       "      <th></th>\n",
       "      <th>ratings</th>\n",
       "      <th>price</th>\n",
       "    </tr>\n",
       "    <tr>\n",
       "      <th>name</th>\n",
       "      <th></th>\n",
       "      <th></th>\n",
       "    </tr>\n",
       "  </thead>\n",
       "  <tbody>\n",
       "    <tr>\n",
       "      <th>OPPO Reno10 5G (Ice Blue, 256 GB)</th>\n",
       "      <td>4.2500</td>\n",
       "      <td>32999.0</td>\n",
       "    </tr>\n",
       "    <tr>\n",
       "      <th>OPPO Reno10 5G (Silvery Grey, 256 GB)</th>\n",
       "      <td>4.2125</td>\n",
       "      <td>32999.0</td>\n",
       "    </tr>\n",
       "    <tr>\n",
       "      <th>SAMSUNG 1215</th>\n",
       "      <td>NaN</td>\n",
       "      <td>2099.0</td>\n",
       "    </tr>\n",
       "    <tr>\n",
       "      <th>SAMSUNG A04 E (Copper, 128 GB)</th>\n",
       "      <td>4.1000</td>\n",
       "      <td>11499.0</td>\n",
       "    </tr>\n",
       "    <tr>\n",
       "      <th>SAMSUNG A04 e (Copper, 64 GB)</th>\n",
       "      <td>4.1000</td>\n",
       "      <td>9999.0</td>\n",
       "    </tr>\n",
       "    <tr>\n",
       "      <th>...</th>\n",
       "      <td>...</td>\n",
       "      <td>...</td>\n",
       "    </tr>\n",
       "    <tr>\n",
       "      <th>SAMSUNG Metro B313E Dual Sim - White</th>\n",
       "      <td>4.2000</td>\n",
       "      <td>2299.0</td>\n",
       "    </tr>\n",
       "    <tr>\n",
       "      <th>SAMSUNG On5 (Black, 8 GB)</th>\n",
       "      <td>4.3000</td>\n",
       "      <td>5499.0</td>\n",
       "    </tr>\n",
       "    <tr>\n",
       "      <th>SAMSUNG S22 Ultra 5G (Burgundy, 256 GB)</th>\n",
       "      <td>4.3000</td>\n",
       "      <td>56231.0</td>\n",
       "    </tr>\n",
       "    <tr>\n",
       "      <th>SAMSUNG SM-B310EZDDINS</th>\n",
       "      <td>4.2000</td>\n",
       "      <td>2149.0</td>\n",
       "    </tr>\n",
       "    <tr>\n",
       "      <th>SAMSUNG Z2 (Gold, 8 GB)</th>\n",
       "      <td>4.2000</td>\n",
       "      <td>4790.0</td>\n",
       "    </tr>\n",
       "  </tbody>\n",
       "</table>\n",
       "<p>414 rows × 2 columns</p>\n",
       "</div>"
      ],
      "text/plain": [
       "                                         ratings    price\n",
       "name                                                     \n",
       "OPPO Reno10 5G (Ice Blue, 256 GB)         4.2500  32999.0\n",
       "OPPO Reno10 5G (Silvery Grey, 256 GB)     4.2125  32999.0\n",
       "SAMSUNG 1215                                 NaN   2099.0\n",
       "SAMSUNG A04 E (Copper, 128 GB)            4.1000  11499.0\n",
       "SAMSUNG A04 e (Copper, 64 GB)             4.1000   9999.0\n",
       "...                                          ...      ...\n",
       "SAMSUNG Metro B313E Dual Sim - White      4.2000   2299.0\n",
       "SAMSUNG On5 (Black, 8 GB)                 4.3000   5499.0\n",
       "SAMSUNG S22 Ultra 5G (Burgundy, 256 GB)   4.3000  56231.0\n",
       "SAMSUNG SM-B310EZDDINS                    4.2000   2149.0\n",
       "SAMSUNG Z2 (Gold, 8 GB)                   4.2000   4790.0\n",
       "\n",
       "[414 rows x 2 columns]"
      ]
     },
     "execution_count": 343,
     "metadata": {},
     "output_type": "execute_result"
    }
   ],
   "source": [
    "average_rating_price = combined_data.groupby('name')[['ratings', 'price']].mean()\n",
    "\n",
    "average_rating_price"
   ]
  },
  {
   "cell_type": "markdown",
   "metadata": {},
   "source": [
    "2.3 Distribution of Smartphone Prices"
   ]
  },
  {
   "cell_type": "markdown",
   "metadata": {},
   "source": [
    "Setting a sns style"
   ]
  },
  {
   "cell_type": "code",
   "execution_count": 344,
   "metadata": {},
   "outputs": [],
   "source": [
    "sns.set_style('whitegrid')"
   ]
  },
  {
   "cell_type": "markdown",
   "metadata": {},
   "source": [
    "Create a figure with two subplots"
   ]
  },
  {
   "cell_type": "code",
   "execution_count": 345,
   "metadata": {},
   "outputs": [
    {
     "data": {
      "image/png": "[encoded data removed]",
      "text/plain": [
       "<Figure size 1000x1200 with 2 Axes>"
      ]
     },
     "metadata": {},
     "output_type": "display_data"
    }
   ],
   "source": [
    "fig, (ax1, ax2) = plt.subplots(2, 1, figsize=(10, 12))"
   ]
  },
  {
   "cell_type": "markdown",
   "metadata": {},
   "source": [
    "Histogram of prices"
   ]
  },
  {
   "cell_type": "code",
   "execution_count": 346,
   "metadata": {},
   "outputs": [
    {
     "data": {
      "text/plain": [
       "Text(4.444444444444452, 0.5, 'Count')"
      ]
     },
     "execution_count": 346,
     "metadata": {},
     "output_type": "execute_result"
    }
   ],
   "source": [
    "sns.histplot(combined_data['price'], bins=30, ax=ax1)\n",
    "ax1.set_title('Distribution of Smartphone Prices')\n",
    "ax1.set_xlabel('Price')\n",
    "ax1.set_ylabel('Count')\n",
    "\n"
   ]
  },
  {
   "cell_type": "markdown",
   "metadata": {},
   "source": [
    "Scatter plot of prices and ratings"
   ]
  },
  {
   "cell_type": "code",
   "execution_count": 347,
   "metadata": {},
   "outputs": [
    {
     "data": {
      "text/plain": [
       "<Figure size 1500x500 with 0 Axes>"
      ]
     },
     "metadata": {},
     "output_type": "display_data"
    }
   ],
   "source": [
    "sns.scatterplot(data=combined_data, x='price', y='ratings', ax=ax2)\n",
    "ax2.set_title('Price vs Ratings')\n",
    "ax2.set_xlabel('Price')\n",
    "ax2.set_ylabel('Ratings')\n",
    "\n",
    "plt.tight_layout()\n",
    "plt.show()"
   ]
  },
  {
   "cell_type": "markdown",
   "metadata": {},
   "source": [
    "Display the plots"
   ]
  },
  {
   "cell_type": "code",
   "execution_count": 348,
   "metadata": {},
   "outputs": [
    {
     "data": {
      "text/plain": [
       "<Figure size 1500x500 with 0 Axes>"
      ]
     },
     "metadata": {},
     "output_type": "display_data"
    }
   ],
   "source": [
    "plt.tight_layout()\n",
    "plt.show()"
   ]
  },
  {
   "cell_type": "markdown",
   "metadata": {},
   "source": [
    "# Recommendor"
   ]
  },
  {
   "cell_type": "markdown",
   "metadata": {},
   "source": [
    "Select numeric features"
   ]
  },
  {
   "cell_type": "code",
   "execution_count": 349,
   "metadata": {},
   "outputs": [],
   "source": [
    "features = ['ratings', 'price', 'internal_storage', 'ram', 'primary_camera', 'secondary_camera', 'display_size', 'battery_capacity']\n",
    "data_subset = combined_data[features]"
   ]
  },
  {
   "cell_type": "markdown",
   "metadata": {},
   "source": [
    "Handle missing values by filling them with the mean value of each column"
   ]
  },
  {
   "cell_type": "code",
   "execution_count": 350,
   "metadata": {},
   "outputs": [],
   "source": [
    "data_subset = data_subset.fillna(data_subset.mean())"
   ]
  },
  {
   "cell_type": "markdown",
   "metadata": {},
   "source": [
    "Standardize the features"
   ]
  },
  {
   "cell_type": "code",
   "execution_count": 351,
   "metadata": {},
   "outputs": [],
   "source": [
    "scaler = StandardScaler()\n",
    "data_subset_scaled = scaler.fit_transform(data_subset)"
   ]
  },
  {
   "cell_type": "markdown",
   "metadata": {},
   "source": [
    "Compute the cosine similarity for the first 5 products"
   ]
  },
  {
   "cell_type": "code",
   "execution_count": 352,
   "metadata": {},
   "outputs": [
    {
     "data": {
      "text/plain": [
       "array([[1.        , 0.99954149, 0.99954149, 0.99954149, 0.59585076],\n",
       "       [0.99954149, 1.        , 1.        , 1.        , 0.58700707],\n",
       "       [0.99954149, 1.        , 1.        , 1.        , 0.58700707],\n",
       "       [0.99954149, 1.        , 1.        , 1.        , 0.58700707],\n",
       "       [0.59585076, 0.58700707, 0.58700707, 0.58700707, 1.        ]])"
      ]
     },
     "execution_count": 352,
     "metadata": {},
     "output_type": "execute_result"
    }
   ],
   "source": [
    "similarity_matrix = cosine_similarity(data_subset_scaled[:5])\n",
    "\n",
    "similarity_matrix"
   ]
  },
  {
   "cell_type": "markdown",
   "metadata": {},
   "source": [
    "This matrix tells us how similar each product is to each other product. For example, the similarity between the first product and itself is 1 (as expected), and the similarity between the first product and the second product is 0.999, indicating they are very similar."
   ]
  },
  {
   "cell_type": "markdown",
   "metadata": {},
   "source": [
    "### Getting Product Recommendation based on model"
   ]
  },
  {
   "cell_type": "markdown",
   "metadata": {},
   "source": [
    "Function to recommend products"
   ]
  },
  {
   "cell_type": "code",
   "execution_count": 353,
   "metadata": {},
   "outputs": [],
   "source": [
    "def recommend_products(product_name, data, features, num_recommendations=5):\n",
    "    # Fill missing values with the mean value of each column\n",
    "    data = data.fillna(data.mean())\n",
    "    \n",
    "    # Select the specified features and standardize them\n",
    "    scaler = StandardScaler()\n",
    "    data_scaled = scaler.fit_transform(data[features])\n",
    "    \n",
    "    # Create a DataFrame from the scaled data\n",
    "    data_scaled = pd.DataFrame(data_scaled, index=data.index, columns=features)\n",
    "    \n",
    "    # Compute the cosine similarity matrix\n",
    "    similarity_matrix = cosine_similarity(data_scaled)\n",
    "    \n",
    "    # Create a Series from the similarity matrix using the product names as the index\n",
    "    product_similarities = pd.Series(similarity_matrix[data.index[data['name'] == product_name][0]], index=data['name'])\n",
    "    \n",
    "    # Get the top products with the highest cosine similarity\n",
    "    top_products = product_similarities.sort_values(ascending=False).head(num_recommendations + 1)\n",
    "    \n",
    "    # Remove the input product itself from the recommendations\n",
    "    top_products = top_products.iloc[1:]\n",
    "    \n",
    "    return top_products\n",
    "\n",
    "# Dropdown widget for product selection\n",
    "product_dropdown = widgets.Dropdown(\n",
    "    options=combined_data['name'].unique(),\n",
    "    description='Product:',\n",
    "    disabled=False,)"
   ]
  },
  {
   "cell_type": "code",
   "execution_count": 354,
   "metadata": {},
   "outputs": [
    {
     "data": {
      "application/vnd.jupyter.widget-view+json": {
       "model_id": "61a58d1dcdab409fa5e2a6e69e64540f",
       "version_major": 2,
       "version_minor": 0
      },
      "text/plain": [
       "Dropdown(description='Product:', options=('SAMSUNG Galaxy F13 (Sunrise Copper, 64 GB)', 'SAMSUNG Galaxy F13 (W…"
      ]
     },
     "metadata": {},
     "output_type": "display_data"
    },
    {
     "data": {
      "application/vnd.jupyter.widget-view+json": {
       "model_id": "bd1a3420a49c4c34a6c83e71679d53a3",
       "version_major": 2,
       "version_minor": 0
      },
      "text/plain": [
       "Button(description='Recommend', style=ButtonStyle())"
      ]
     },
     "metadata": {},
     "output_type": "display_data"
    },
    {
     "data": {
      "application/vnd.jupyter.widget-view+json": {
       "model_id": "05f01795aaae462db021751340c81d78",
       "version_major": 2,
       "version_minor": 0
      },
      "text/plain": [
       "Output()"
      ]
     },
     "metadata": {},
     "output_type": "display_data"
    }
   ],
   "source": [
    "# Button to trigger the recommendation\n",
    "recommend_button = widgets.Button(description='Recommend')\n",
    "\n",
    "# Output widget to display the recommendations\n",
    "output = widgets.Output()\n",
    "\n",
    "display(product_dropdown, recommend_button, output)"
   ]
  },
  {
   "cell_type": "code",
   "execution_count": 355,
   "metadata": {},
   "outputs": [],
   "source": [
    "def recommend(button):\n",
    "    # Clear previous output\n",
    "    output.clear_output()\n",
    "    \n",
    "    # Get selected product\n",
    "    product_name = product_dropdown.value\n",
    "\n",
    "    # Get recommendations\n",
    "    features = ['ratings', 'price', 'internal_storage', 'ram', 'primary_camera', 'secondary_camera', 'display_size', 'battery_capacity']\n",
    "    recommendations = recommend_products(product_name, combined_data, features)\n",
    "    \n",
    "    # Display recommendations\n",
    "    with output:\n",
    "        for product in recommendations.index:\n",
    "            img_url = combined_data.loc[combined_data['name'] == product, 'imgURL'].values[0]\n",
    "            display(Image(url=img_url))\n",
    "            print(f\"Product: {product}, Similarity Score: {recommendations[product]}\")\n",
    "\n",
    "recommend_button.on_click(recommend)"
   ]
  },
  {
   "cell_type": "markdown",
   "metadata": {},
   "source": [
    "## Segment Analysis"
   ]
  },
  {
   "cell_type": "markdown",
   "metadata": {},
   "source": [
    "Select the features to use for segmentation"
   ]
  },
  {
   "cell_type": "code",
   "execution_count": 356,
   "metadata": {},
   "outputs": [],
   "source": [
    "features = ['price', 'ratings', 'ram', 'internal_storage', 'primary_camera', 'secondary_camera', 'display_size', 'battery_capacity']"
   ]
  },
  {
   "cell_type": "markdown",
   "metadata": {},
   "source": [
    "Fill missing values with the median of each column"
   ]
  },
  {
   "cell_type": "code",
   "execution_count": 357,
   "metadata": {},
   "outputs": [],
   "source": [
    "combined_data[features] = combined_data[features].fillna(combined_data[features].median())"
   ]
  },
  {
   "cell_type": "markdown",
   "metadata": {},
   "source": [
    "Standardize the features"
   ]
  },
  {
   "cell_type": "code",
   "execution_count": 358,
   "metadata": {},
   "outputs": [],
   "source": [
    "scaler = StandardScaler()\n",
    "data_scaled = scaler.fit_transform(combined_data[features])"
   ]
  },
  {
   "cell_type": "markdown",
   "metadata": {},
   "source": [
    "Perform K-means clustering"
   ]
  },
  {
   "cell_type": "code",
   "execution_count": 359,
   "metadata": {},
   "outputs": [
    {
     "name": "stderr",
     "output_type": "stream",
     "text": [
      "C:\\Users\\JANUARIUS\\AppData\\Roaming\\Python\\Python311\\site-packages\\sklearn\\cluster\\_kmeans.py:870: FutureWarning: The default value of `n_init` will change from 10 to 'auto' in 1.4. Set the value of `n_init` explicitly to suppress the warning\n",
      "  warnings.warn(\n"
     ]
    }
   ],
   "source": [
    "kmeans = KMeans(n_clusters=3, random_state=0).fit(data_scaled)"
   ]
  },
  {
   "cell_type": "markdown",
   "metadata": {},
   "source": [
    "Add the cluster labels to the original DataFrame"
   ]
  },
  {
   "cell_type": "code",
   "execution_count": 360,
   "metadata": {},
   "outputs": [],
   "source": [
    "combined_data['cluster'] = kmeans.labels_"
   ]
  },
  {
   "cell_type": "markdown",
   "metadata": {},
   "source": [
    "Print the number of phones in each cluster"
   ]
  },
  {
   "cell_type": "code",
   "execution_count": 361,
   "metadata": {},
   "outputs": [
    {
     "name": "stdout",
     "output_type": "stream",
     "text": [
      "cluster\n",
      "1    765\n",
      "0    180\n",
      "2     38\n",
      "Name: count, dtype: int64\n"
     ]
    }
   ],
   "source": [
    "print(combined_data['cluster'].value_counts())"
   ]
  },
  {
   "cell_type": "markdown",
   "metadata": {},
   "source": [
    "Perform PCA for dimensionality reduction\n"
   ]
  },
  {
   "cell_type": "code",
   "execution_count": 383,
   "metadata": {},
   "outputs": [],
   "source": [
    "pca = PCA(n_components=2)\n",
    "principal_components = pca.fit_transform(data_scaled)"
   ]
  },
  {
   "cell_type": "markdown",
   "metadata": {},
   "source": [
    "Create a DataFrame with the two principal components"
   ]
  },
  {
   "cell_type": "code",
   "execution_count": 363,
   "metadata": {},
   "outputs": [],
   "source": [
    "principal_df = pd.DataFrame(data=principal_components, columns=['principal component 1', 'principal component 2'])"
   ]
  },
  {
   "cell_type": "markdown",
   "metadata": {},
   "source": [
    "Concatenate the clusters labels to the DataFrame"
   ]
  },
  {
   "cell_type": "code",
   "execution_count": 364,
   "metadata": {},
   "outputs": [],
   "source": [
    "final_df = pd.concat([principal_df, combined_data[['cluster']]], axis=1)"
   ]
  },
  {
   "cell_type": "markdown",
   "metadata": {},
   "source": [
    "Plot the clusters"
   ]
  },
  {
   "cell_type": "code",
   "execution_count": 365,
   "metadata": {},
   "outputs": [
    {
     "data": {
      "image/png": "[encoded data removed]",
      "text/plain": [
       "<Figure size 800x800 with 1 Axes>"
      ]
     },
     "metadata": {},
     "output_type": "display_data"
    }
   ],
   "source": [
    "fig = plt.figure(figsize=(8,8))\n",
    "ax = fig.add_subplot(1,1,1) \n",
    "ax.set_xlabel('Principal Component 1', fontsize=15)\n",
    "ax.set_ylabel('Principal Component 2', fontsize=15)\n",
    "ax.set_title('2D visualization of Samsung Mobiles Clusters', fontsize=20)\n",
    "\n",
    "colors = ['r', 'g', 'b']\n",
    "for cluster in range(3):\n",
    "    indicesToKeep = final_df['cluster'] == cluster\n",
    "    ax.scatter(final_df.loc[indicesToKeep, 'principal component 1'], final_df.loc[indicesToKeep, 'principal component 2'], c=colors[cluster], s=50)\n",
    "\n",
    "ax.legend(['Cluster 0', 'Cluster 1', 'Cluster 2'])\n",
    "ax.grid()\n"
   ]
  },
  {
   "cell_type": "code",
   "execution_count": 366,
   "metadata": {},
   "outputs": [
    {
     "name": "stdout",
     "output_type": "stream",
     "text": [
      "                price   ratings       ram  internal_storage  primary_camera  \\\n",
      "cluster                                                                       \n",
      "0        60704.244444  4.213333  8.677778        198.400000       64.300000   \n",
      "1        17267.288889  4.195163  5.149020        110.577778       45.288889   \n",
      "2         3281.342105  4.178947  5.631579        110.842105       43.394737   \n",
      "\n",
      "         secondary_camera  display_size  battery_capacity  \n",
      "cluster                                                    \n",
      "0               21.422222     16.735000       4596.655556  \n",
      "1               11.619608     16.394209       4986.665359  \n",
      "2               11.052632      5.198684        959.210526  \n"
     ]
    }
   ],
   "source": [
    "cluster_characteristics = combined_data.groupby('cluster')[features].mean()\n",
    "print(cluster_characteristics)"
   ]
  },
  {
   "cell_type": "markdown",
   "metadata": {},
   "source": [
    "Cluster 0 (High-End Segment): This cluster can be characterized by mobiles with high prices (average price is approximately 60704) and high specifications. The mobiles in this cluster have a larger average RAM size (8.68), larger internal storage (198.4), and more powerful cameras (primary camera is 64.3 MP and secondary camera is 21.42 MP). These are most likely high-end phones.\n",
    "\n",
    "Cluster 1 (Mid-Range Segment): This cluster can be characterized by mobiles with moderate prices (average price is approximately 17267) and moderate specifications. The mobiles in this cluster have a medium average RAM size (5.15), medium internal storage (110.58), and medium-performance cameras (primary camera is 45.29 MP and secondary camera is 11.62 MP). These are most likely mid-range phones.\n",
    "\n",
    "Cluster 2 (Budget Segment): This cluster can be characterized by mobiles with low prices (average price is approximately 3281) and lower specifications. The mobiles in this cluster have a lower average RAM size (5.63), lower internal storage (110.84), and lower-performance cameras (primary camera is 43.39 MP and secondary camera is 11.05 MP). These are most likely budget-friendly phones."
   ]
  },
  {
   "cell_type": "markdown",
   "metadata": {},
   "source": [
    "### Price Prediction Model"
   ]
  },
  {
   "cell_type": "markdown",
   "metadata": {},
   "source": [
    "Select relevant columns for model training"
   ]
  },
  {
   "cell_type": "code",
   "execution_count": 367,
   "metadata": {},
   "outputs": [],
   "source": [
    "selected_columns = ['ratings', 'ram', 'battery_capacity', 'cluster', 'price']\n",
    "data_selected = combined_data[selected_columns]"
   ]
  },
  {
   "cell_type": "markdown",
   "metadata": {},
   "source": [
    "Drop rows with missing target values (price) if any"
   ]
  },
  {
   "cell_type": "code",
   "execution_count": 368,
   "metadata": {},
   "outputs": [],
   "source": [
    "data_selected = data_selected.dropna(subset=['price'])"
   ]
  },
  {
   "cell_type": "markdown",
   "metadata": {},
   "source": [
    "Separate features (X) and target (y)"
   ]
  },
  {
   "cell_type": "code",
   "execution_count": 369,
   "metadata": {},
   "outputs": [],
   "source": [
    "X = data_selected.drop(columns=['price'])\n",
    "y = data_selected['price']"
   ]
  },
  {
   "cell_type": "markdown",
   "metadata": {},
   "source": [
    "Handle missing values by filling them with the mean of each column"
   ]
  },
  {
   "cell_type": "code",
   "execution_count": 370,
   "metadata": {},
   "outputs": [],
   "source": [
    "X_filled = X.fillna(X.mean())"
   ]
  },
  {
   "cell_type": "markdown",
   "metadata": {},
   "source": [
    "Encode categorical variables using one-hot encoding"
   ]
  },
  {
   "cell_type": "code",
   "execution_count": 371,
   "metadata": {},
   "outputs": [],
   "source": [
    "X_encoded = pd.get_dummies(X_filled)"
   ]
  },
  {
   "cell_type": "markdown",
   "metadata": {},
   "source": [
    "Now split the data into training and testing sets"
   ]
  },
  {
   "cell_type": "code",
   "execution_count": 372,
   "metadata": {},
   "outputs": [],
   "source": [
    "\n",
    "X_train, X_test, y_train, y_test = train_test_split(X_encoded, y, test_size=0.2, random_state=0)"
   ]
  },
  {
   "cell_type": "markdown",
   "metadata": {},
   "source": [
    "Initialize all the models"
   ]
  },
  {
   "cell_type": "code",
   "execution_count": 373,
   "metadata": {},
   "outputs": [],
   "source": [
    "models = [\n",
    "    LinearRegression(),\n",
    "    DecisionTreeRegressor(random_state=0),\n",
    "    RandomForestRegressor(n_estimators=100, random_state=0),\n",
    "    SVR(),\n",
    "    GradientBoostingRegressor(random_state=0)\n",
    "]"
   ]
  },
  {
   "cell_type": "markdown",
   "metadata": {},
   "source": [
    "Train and evaluate each model"
   ]
  },
  {
   "cell_type": "code",
   "execution_count": 374,
   "metadata": {},
   "outputs": [
    {
     "name": "stdout",
     "output_type": "stream",
     "text": [
      "LinearRegression MAE:  9802.987140356052\n",
      "DecisionTreeRegressor MAE:  7714.484445867494\n",
      "RandomForestRegressor MAE:  7522.654669540377\n",
      "SVR MAE:  14064.978242211184\n",
      "GradientBoostingRegressor MAE:  7311.217042660507\n"
     ]
    }
   ],
   "source": [
    "for model in models:\n",
    "    model_name = model.__class__.__name__\n",
    "    \n",
    "    # Train the model\n",
    "    model.fit(X_train, y_train)\n",
    "    \n",
    "    # Make predictions on the test set\n",
    "    predictions = model.predict(X_test)\n",
    "    \n",
    "    # Calculate the mean absolute error of the predictions\n",
    "    mae = mean_absolute_error(y_test, predictions)\n",
    "    \n",
    "    print(f\"{model_name} MAE: \", mae)"
   ]
  },
  {
   "cell_type": "code",
   "execution_count": 375,
   "metadata": {},
   "outputs": [],
   "source": [
    "important_features_data = combined_data[['ratings', 'ram', 'battery_capacity', 'cluster', 'price']]"
   ]
  },
  {
   "cell_type": "markdown",
   "metadata": {},
   "source": [
    "Step 2: Prepare the data for modeling"
   ]
  },
  {
   "cell_type": "code",
   "execution_count": 376,
   "metadata": {},
   "outputs": [],
   "source": [
    "X = important_features_data[['ratings', 'ram', 'battery_capacity', 'cluster']]\n",
    "y = important_features_data['price']"
   ]
  },
  {
   "cell_type": "markdown",
   "metadata": {},
   "source": [
    "Step 3: Train the GradientBoostingRegressor\n",
    "- Assuming you have already split the data into training and testing sets, and X_train, y_train are the training data.\n",
    "  - You can also use the entire dataset for training if you prefer."
   ]
  },
  {
   "cell_type": "code",
   "execution_count": 377,
   "metadata": {},
   "outputs": [
    {
     "data": {
      "text/html": [
       "<style>#sk-container-id-5 {color: black;background-color: white;}#sk-container-id-5 pre{padding: 0;}#sk-container-id-5 div.sk-toggleable {background-color: white;}#sk-container-id-5 label.sk-toggleable__label {cursor: pointer;display: block;width: 100%;margin-bottom: 0;padding: 0.3em;box-sizing: border-box;text-align: center;}#sk-container-id-5 label.sk-toggleable__label-arrow:before {content: \"▸\";float: left;margin-right: 0.25em;color: #696969;}#sk-container-id-5 label.sk-toggleable__label-arrow:hover:before {color: black;}#sk-container-id-5 div.sk-estimator:hover label.sk-toggleable__label-arrow:before {color: black;}#sk-container-id-5 div.sk-toggleable__content {max-height: 0;max-width: 0;overflow: hidden;text-align: left;background-color: #f0f8ff;}#sk-container-id-5 div.sk-toggleable__content pre {margin: 0.2em;color: black;border-radius: 0.25em;background-color: #f0f8ff;}#sk-container-id-5 input.sk-toggleable__control:checked~div.sk-toggleable__content {max-height: 200px;max-width: 100%;overflow: auto;}#sk-container-id-5 input.sk-toggleable__control:checked~label.sk-toggleable__label-arrow:before {content: \"▾\";}#sk-container-id-5 div.sk-estimator input.sk-toggleable__control:checked~label.sk-toggleable__label {background-color: #d4ebff;}#sk-container-id-5 div.sk-label input.sk-toggleable__control:checked~label.sk-toggleable__label {background-color: #d4ebff;}#sk-container-id-5 input.sk-hidden--visually {border: 0;clip: rect(1px 1px 1px 1px);clip: rect(1px, 1px, 1px, 1px);height: 1px;margin: -1px;overflow: hidden;padding: 0;position: absolute;width: 1px;}#sk-container-id-5 div.sk-estimator {font-family: monospace;background-color: #f0f8ff;border: 1px dotted black;border-radius: 0.25em;box-sizing: border-box;margin-bottom: 0.5em;}#sk-container-id-5 div.sk-estimator:hover {background-color: #d4ebff;}#sk-container-id-5 div.sk-parallel-item::after {content: \"\";width: 100%;border-bottom: 1px solid gray;flex-grow: 1;}#sk-container-id-5 div.sk-label:hover label.sk-toggleable__label {background-color: #d4ebff;}#sk-container-id-5 div.sk-serial::before {content: \"\";position: absolute;border-left: 1px solid gray;box-sizing: border-box;top: 0;bottom: 0;left: 50%;z-index: 0;}#sk-container-id-5 div.sk-serial {display: flex;flex-direction: column;align-items: center;background-color: white;padding-right: 0.2em;padding-left: 0.2em;position: relative;}#sk-container-id-5 div.sk-item {position: relative;z-index: 1;}#sk-container-id-5 div.sk-parallel {display: flex;align-items: stretch;justify-content: center;background-color: white;position: relative;}#sk-container-id-5 div.sk-item::before, #sk-container-id-5 div.sk-parallel-item::before {content: \"\";position: absolute;border-left: 1px solid gray;box-sizing: border-box;top: 0;bottom: 0;left: 50%;z-index: -1;}#sk-container-id-5 div.sk-parallel-item {display: flex;flex-direction: column;z-index: 1;position: relative;background-color: white;}#sk-container-id-5 div.sk-parallel-item:first-child::after {align-self: flex-end;width: 50%;}#sk-container-id-5 div.sk-parallel-item:last-child::after {align-self: flex-start;width: 50%;}#sk-container-id-5 div.sk-parallel-item:only-child::after {width: 0;}#sk-container-id-5 div.sk-dashed-wrapped {border: 1px dashed gray;margin: 0 0.4em 0.5em 0.4em;box-sizing: border-box;padding-bottom: 0.4em;background-color: white;}#sk-container-id-5 div.sk-label label {font-family: monospace;font-weight: bold;display: inline-block;line-height: 1.2em;}#sk-container-id-5 div.sk-label-container {text-align: center;}#sk-container-id-5 div.sk-container {/* jupyter's `normalize.less` sets `[hidden] { display: none; }` but bootstrap.min.css set `[hidden] { display: none !important; }` so we also need the `!important` here to be able to override the default hidden behavior on the sphinx rendered scikit-learn.org. See: https://github.com/scikit-learn/scikit-learn/issues/21755 */display: inline-block !important;position: relative;}#sk-container-id-5 div.sk-text-repr-fallback {display: none;}</style><div id=\"sk-container-id-5\" class=\"sk-top-container\"><div class=\"sk-text-repr-fallback\"><pre>GradientBoostingRegressor()</pre><b>In a Jupyter environment, please rerun this cell to show the HTML representation or trust the notebook. <br />On GitHub, the HTML representation is unable to render, please try loading this page with nbviewer.org.</b></div><div class=\"sk-container\" hidden><div class=\"sk-item\"><div class=\"sk-estimator sk-toggleable\"><input class=\"sk-toggleable__control sk-hidden--visually\" id=\"sk-estimator-id-5\" type=\"checkbox\" checked><label for=\"sk-estimator-id-5\" class=\"sk-toggleable__label sk-toggleable__label-arrow\">GradientBoostingRegressor</label><div class=\"sk-toggleable__content\"><pre>GradientBoostingRegressor()</pre></div></div></div></div></div>"
      ],
      "text/plain": [
       "GradientBoostingRegressor()"
      ]
     },
     "execution_count": 377,
     "metadata": {},
     "output_type": "execute_result"
    }
   ],
   "source": [
    "model = GradientBoostingRegressor()\n",
    "model.fit(X, y)"
   ]
  },
  {
   "cell_type": "markdown",
   "metadata": {},
   "source": [
    "Step 4: Get the feature importances"
   ]
  },
  {
   "cell_type": "code",
   "execution_count": 378,
   "metadata": {},
   "outputs": [],
   "source": [
    "feature_importances = model.feature_importances_"
   ]
  },
  {
   "cell_type": "markdown",
   "metadata": {},
   "source": [
    "Step 5: Sort and display the important features"
   ]
  },
  {
   "cell_type": "code",
   "execution_count": 379,
   "metadata": {},
   "outputs": [
    {
     "name": "stdout",
     "output_type": "stream",
     "text": [
      "            Feature  Importance\n",
      "3           cluster    0.546428\n",
      "2  battery_capacity    0.209129\n",
      "1               ram    0.200609\n",
      "0           ratings    0.043835\n"
     ]
    }
   ],
   "source": [
    "importance_df = pd.DataFrame({'Feature': X.columns, 'Importance': feature_importances})\n",
    "importance_df = importance_df.sort_values(by='Importance', ascending=False)\n",
    "print(importance_df)"
   ]
  },
  {
   "cell_type": "markdown",
   "metadata": {},
   "source": [
    "### Getting Prediction"
   ]
  },
  {
   "cell_type": "markdown",
   "metadata": {},
   "source": [
    "Function to make a price prediction based on user input"
   ]
  },
  {
   "cell_type": "code",
   "execution_count": 380,
   "metadata": {},
   "outputs": [],
   "source": [
    "def predict_price(ratings, ram, battery_capacity, cluster):\n",
    "    # Create a DataFrame with the user input\n",
    "    input_data = pd.DataFrame({\n",
    "        'ratings': [ratings],\n",
    "        'ram': [ram],\n",
    "        'battery_capacity': [battery_capacity],\n",
    "        'cluster': [cluster]\n",
    "    })\n",
    "    # Handle missing values in the input\n",
    "    input_data_filled = input_data.fillna(input_data.mean())\n",
    "\n",
    "    # Make the price prediction using the trained GradientBoostingRegressor\n",
    "    price_prediction = models[-1].predict(input_data_filled)[0]\n",
    "\n",
    "    return price_prediction\n",
    "\n",
    "# Create input widgets for user input\n",
    "ratings_input = widgets.FloatSlider(description='Ratings:', min=1.0, max=5.0, step=0.1, value=3.0)\n",
    "ram_input = widgets.FloatSlider(description='RAM (GB):', min=0.0, max=16.0, step=0.5, value=4.0)\n",
    "battery_capacity_input = widgets.FloatSlider(description='Battery Capacity (mAh):', min=0.0, max=10000.0, step=10.0, value=5000.0)\n",
    "cluster_options = [0, 1, 2]\n",
    "cluster_input = widgets.Dropdown(description='Cluster:', options=cluster_options, value=0)\n",
    "\n",
    "# Create a button for prediction\n",
    "predict_button = widgets.Button(description='Predict Price')\n",
    "\n",
    "# Output widget to display the prediction result\n",
    "output = widgets.Output()"
   ]
  },
  {
   "cell_type": "markdown",
   "metadata": {},
   "source": [
    "Function to handle the button click and display the prediction"
   ]
  },
  {
   "cell_type": "code",
   "execution_count": 381,
   "metadata": {},
   "outputs": [],
   "source": [
    "def on_predict_button_click(button):\n",
    "    # Clear previous output\n",
    "    output.clear_output()\n",
    "\n",
    "    # Get user input\n",
    "    ratings = ratings_input.value\n",
    "    ram = ram_input.value\n",
    "    battery_capacity = battery_capacity_input.value\n",
    "    cluster = cluster_input.value\n",
    "\n",
    "    # Make the price prediction\n",
    "    price_prediction = predict_price(ratings, ram, battery_capacity, cluster)\n",
    "\n",
    "    # Display the prediction\n",
    "    with output:\n",
    "        print(f\"Predicted Price: ₹ {price_prediction:.2f}\")\n"
   ]
  },
  {
   "cell_type": "code",
   "execution_count": 382,
   "metadata": {},
   "outputs": [
    {
     "data": {
      "application/vnd.jupyter.widget-view+json": {
       "model_id": "de2638516cbb492b96c2cf1431964f9b",
       "version_major": 2,
       "version_minor": 0
      },
      "text/plain": [
       "FloatSlider(value=3.0, description='Ratings:', max=5.0, min=1.0)"
      ]
     },
     "metadata": {},
     "output_type": "display_data"
    },
    {
     "data": {
      "application/vnd.jupyter.widget-view+json": {
       "model_id": "436fe933905a4cd9827471a3998a67cf",
       "version_major": 2,
       "version_minor": 0
      },
      "text/plain": [
       "FloatSlider(value=4.0, description='RAM (GB):', max=16.0, step=0.5)"
      ]
     },
     "metadata": {},
     "output_type": "display_data"
    },
    {
     "data": {
      "application/vnd.jupyter.widget-view+json": {
       "model_id": "b4868e4cef40459cbd45b7239c4f0bf8",
       "version_major": 2,
       "version_minor": 0
      },
      "text/plain": [
       "FloatSlider(value=5000.0, description='Battery Capacity (mAh):', max=10000.0, step=10.0)"
      ]
     },
     "metadata": {},
     "output_type": "display_data"
    },
    {
     "data": {
      "application/vnd.jupyter.widget-view+json": {
       "model_id": "e47ba7a34aa9420697a7edbc32362bdb",
       "version_major": 2,
       "version_minor": 0
      },
      "text/plain": [
       "Dropdown(description='Cluster:', options=(0, 1, 2), value=0)"
      ]
     },
     "metadata": {},
     "output_type": "display_data"
    },
    {
     "data": {
      "application/vnd.jupyter.widget-view+json": {
       "model_id": "dedafec12a15466ebe35bd355dc986dd",
       "version_major": 2,
       "version_minor": 0
      },
      "text/plain": [
       "Button(description='Predict Price', style=ButtonStyle())"
      ]
     },
     "metadata": {},
     "output_type": "display_data"
    },
    {
     "data": {
      "application/vnd.jupyter.widget-view+json": {
       "model_id": "8778546f4f914edb95d2279926af5f31",
       "version_major": 2,
       "version_minor": 0
      },
      "text/plain": [
       "Output()"
      ]
     },
     "metadata": {},
     "output_type": "display_data"
    }
   ],
   "source": [
    "# Attach the click event to the button\n",
    "predict_button.on_click(on_predict_button_click)\n",
    "\n",
    "# Display the widgets\n",
    "display(ratings_input, ram_input, battery_capacity_input, cluster_input, predict_button, output)"
   ]
  }
 ],
 "metadata": {
  "kernelspec": {
   "display_name": "Python 3",
   "language": "python",
   "name": "python3"
  },
  "language_info": {
   "codemirror_mode": {
    "name": "ipython",
    "version": 3
   },
   "file_extension": ".py",
   "mimetype": "text/x-python",
   "name": "python",
   "nbconvert_exporter": "python",
   "pygments_lexer": "ipython3",
   "version": "3.11.1"
  },
  "orig_nbformat": 4
 },
 "nbformat": 4,
 "nbformat_minor": 2
}
